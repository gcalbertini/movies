{
 "cells": [
  {
   "cell_type": "markdown",
   "metadata": {},
   "source": []
  },
  {
   "cell_type": "markdown",
   "metadata": {},
   "source": [
    "# In this project, you will demonstrate the essential skills involved in hypothesis testing. To do so, we will  use  a  real  dataset   that  stems  from  a  replication  attempt  of  published  research  (Wallisch  &  Whritner, 2017). Please write a report (1-2 pages, as needed) that answers all the questions below.  You can pretend you are working for a major movie studio that needs to answer these  questions in order to optimize their operations. You can use figures as needed to buttress/illustrate your argument.  Note that you will need to do a lot of tests (of your choice, as appropriate) to answer these questions, so to  cut down on false positives, set the per-test significance level 𝛼 to 0.005 (as per Benjamin et al., 2018). "
   ]
  },
  {
   "cell_type": "code",
   "execution_count": 66,
   "metadata": {},
   "outputs": [],
   "source": [
    "from myModules import movieClass\n",
    "from os import error\n",
    "import statistics as st\n",
    "import numpy as np\n",
    "import random\n",
    "\n",
    "Movies = movieClass.movie(verbose=True, alpha=0.005)"
   ]
  },
  {
   "cell_type": "markdown",
   "metadata": {},
   "source": [
    "# 1. Are movies that are more popular (operationalized as having more ratings) rated higher than movies that are less popular?"
   ]
  },
  {
   "cell_type": "code",
   "execution_count": 67,
   "metadata": {},
   "outputs": [
    {
     "data": {
      "image/png": "[encoded data removed]",
      "text/plain": [
       "<Figure size 432x288 with 2 Axes>"
      ]
     },
     "metadata": {
      "needs_background": "light"
     },
     "output_type": "display_data"
    },
    {
     "name": "stdout",
     "output_type": "stream",
     "text": [
      "As p-value of 0.00000 is < alpha of 0.005 at test statistic 17.76, we reject the null hypothesis.\n",
      "There is sufficient evidence to suggest that that movies that are more popular have ratings that are higher than movies that are less popular.\n",
      "\n"
     ]
    }
   ],
   "source": [
    "\n",
    "movies_popularities = Movies.popularity()\n",
    "median_pop = st.median(movies_popularities)\n",
    "populars = []\n",
    "sleepers = []\n",
    "movies_col = Movies.columnData(dropNan=True)\n",
    "\n",
    "#median-split of movie popularities\n",
    "for i in range(len(movies_popularities)):\n",
    "    if movies_popularities[i] > median_pop:\n",
    "        populars.append(movies_col[i])\n",
    "    elif movies_popularities[i] < median_pop:\n",
    "        sleepers.append(movies_col[i])\n",
    "    if movies_popularities[i] == median_pop:\n",
    "        choice = random.randint(0, 1)\n",
    "        if choice:\n",
    "            populars.append(movies_col[i])\n",
    "        else:\n",
    "            sleepers.append(movies_col[i])\n",
    "    \n",
    "if (len(sleepers)+len(populars)!=400):error(\"DATA MISMATCH\")\n",
    "            \n",
    "sample_means_populars = []\n",
    "sample_means_sleepers = []\n",
    "for movie in populars: sample_means_populars.append(np.mean(movie))\n",
    "for movie in sleepers: sample_means_sleepers.append(np.mean(movie))\n",
    "\n",
    "Movies.plot(sample_means_populars, sample_means_sleepers, \"Q1\", n_bins = 10, titleX = \"Popular Movie Averages\",titleY = \"Unpopular Movie Averages\", \\\n",
    "    x1=\"Reviews\",y1=\"Reviews\",x2=\"Avg Rating\",y2=\"Avg Rating\")\n",
    "\n",
    "pval1 = Movies.ttest2(sample_means_populars,sample_means_sleepers, hyp = 'greater', text = \"that movies that are more \\\n",
    "popular have ratings that are higher than movies that are less popular.\")\n"
   ]
  },
  {
   "cell_type": "markdown",
   "metadata": {},
   "source": [
    "# 2. Are movies that are newer rated differently than movies that are older? "
   ]
  },
  {
   "cell_type": "code",
   "execution_count": 68,
   "metadata": {},
   "outputs": [
    {
     "data": {
      "image/png": "[encoded data removed]",
      "text/plain": [
       "<Figure size 432x288 with 2 Axes>"
      ]
     },
     "metadata": {
      "needs_background": "light"
     },
     "output_type": "display_data"
    },
    {
     "name": "stdout",
     "output_type": "stream",
     "text": [
      "As p-value of 0.60198 is > alpha of 0.005 at test statistic 20603.50, we fail to reject the null hypothesis.\n",
      "There is insufficient evidence to suggest that that newer movies are rated differently than older films.\n",
      "\n"
     ]
    }
   ],
   "source": [
    "\n",
    "movie_yrs = Movies.movieYrs()\n",
    "mean_yrs = np.mean(movie_yrs)\n",
    "sample_means_movies = []\n",
    "for ratings in movies_col: sample_means_movies.append(np.mean(ratings))\n",
    "\n",
    "#median-split of movie years\n",
    "newer = []\n",
    "older = []\n",
    "median_age = st.median(movie_yrs)\n",
    "for i in range(len(movie_yrs)):\n",
    "    if movie_yrs[i] > median_age:\n",
    "        newer.append(sample_means_movies[i])\n",
    "    elif movie_yrs[i] < median_age:\n",
    "        older.append(sample_means_movies[i])\n",
    "\n",
    "    if movie_yrs[i] == median_age:\n",
    "        choice = random.randint(0, 1)\n",
    "        if choice:\n",
    "            newer.append(sample_means_movies[i])\n",
    "        else:\n",
    "            older.append(sample_means_movies[i])\n",
    "\n",
    "if (len(newer)+len(older)!=400):error(\"DATA MISMATCH\")\n",
    "\n",
    "Movies.plot(older, newer, \"Q2\", n_bins = 12, titleX = \"Older Movie Averages\",titleY = \"Newer Movie Averages\", \\\n",
    "    x1=\"Counts\",y1=\"Counts\",x2=\"Avg Rating\",y2=\"Avg Rating\")\n",
    "   \n",
    "pval2 = Movies.utest2(newer,older, hyp = 'two-sided', text = \"that newer movies are rated differently than older films.\") "
   ]
  },
  {
   "cell_type": "code",
   "execution_count": 69,
   "metadata": {},
   "outputs": [
    {
     "data": {
      "image/png": "[encoded data removed]",
      "text/plain": [
       "<Figure size 432x288 with 2 Axes>"
      ]
     },
     "metadata": {
      "needs_background": "light"
     },
     "output_type": "display_data"
    },
    {
     "name": "stdout",
     "output_type": "stream",
     "text": [
      "As p-value of 0.04497 is > alpha of 0.005 at test statistic 83202.00, we fail to reject the null hypothesis.\n",
      "There is insufficient evidence to suggest that that enjoyment of Shrek (2001) is gendered.\n",
      "\n"
     ]
    }
   ],
   "source": [
    "\n",
    "shrek_males = [] \n",
    "shrek_females = []\n",
    "#row-wise elimination of entries needed as gender may have NAN for entries movie does not and vice-versa\n",
    "genders, ratings_shrek = Movies.rowElim('Gender identity (1 = female; 2 = male; 3 = self-described)','Shrek (2001)')\n",
    "\n",
    "count = 0\n",
    "for i in range(len(genders)):\n",
    "   \n",
    "    if genders[i] == 1:\n",
    "        shrek_females.append(ratings_shrek[i])\n",
    "        count+=1\n",
    "    elif genders[i] == 2:\n",
    "        shrek_males.append(ratings_shrek[i])\n",
    "        count+=1\n",
    "    #due to scarcity of additional info on self-described individuals, gender randomly assigned for them\n",
    "    elif genders[i] == 3:\n",
    "        count+=1\n",
    "        choice = random.randint(0,1)\n",
    "        if choice:\n",
    "            shrek_males.append(ratings_shrek[i])\n",
    "        else:\n",
    "            shrek_females.append(ratings_shrek[i])\n",
    "    else: error('GENDER MISMATCH')\n",
    "if count!=len(shrek_females)+len(shrek_males):error('POSSIBLE DATA MISMATCH')\n",
    "\n",
    "Movies.plot(shrek_males, shrek_females, \"Q3\", n_bins = 6, titleX = \"Male Ratings\",titleY = \"Female Ratings\", \\\n",
    "    x1=\"Counts\",y1=\"Counts\",x2=\"Rating\",y2=\"Rating\")\n",
    "\n",
    "pval3 = Movies.utest2(shrek_males,shrek_females, hyp = 'two-sided', text = \"that enjoyment of Shrek (2001) is gendered.\")  "
   ]
  },
  {
   "cell_type": "markdown",
   "metadata": {},
   "source": [
    "# 3. Is enjoyment of ‘Shrek (2001)’ gendered, i.e. do male and female viewers rate it differently? "
   ]
  },
  {
   "cell_type": "code",
   "execution_count": 70,
   "metadata": {},
   "outputs": [
    {
     "name": "stdout",
     "output_type": "stream",
     "text": [
      "About 12.75% of movies (51) show gendered preferences.\n",
      "\n"
     ]
    }
   ],
   "source": [
    "# 4. What proportion of movies are rated differently by male and female viewers? \n",
    "prop4, pvals4 = Movies.utest2_prop(xcol_title = 'Gender identity (1 = female; 2 = male; 3 = self-described)', \\\n",
    "    options = [1, 2, 3], hyp = 'two-sided', text=\"show gendered preferences.\")"
   ]
  },
  {
   "cell_type": "markdown",
   "metadata": {},
   "source": [
    "# 5. Do people who are only children enjoy ‘The Lion King (1994)’ more than people with siblings? "
   ]
  },
  {
   "cell_type": "code",
   "execution_count": 71,
   "metadata": {},
   "outputs": [
    {
     "data": {
      "image/png": "[encoded data removed]",
      "text/plain": [
       "<Figure size 432x288 with 2 Axes>"
      ]
     },
     "metadata": {
      "needs_background": "light"
     },
     "output_type": "display_data"
    },
    {
     "name": "stdout",
     "output_type": "stream",
     "text": [
      "As p-value of 0.97842 is > alpha of 0.005 at test statistic 52929.00, we fail to reject the null hypothesis.\n",
      "There is insufficient evidence to suggest that single children without siblings enjoy Lion King (1994) more.\n",
      "\n"
     ]
    }
   ],
   "source": [
    "\n",
    "LK_single = [] \n",
    "LK_multi = []\n",
    "#row-wise elimination of entries needed as gender may have NAN for entries movie does not and vice-versa\n",
    "status, ratings_LK = Movies.rowElim('Are you an only child? (1: Yes; 0: No; -1: Did not respond)','The Lion King (1994)')\n",
    "\n",
    "count = 0\n",
    "for i in range(len(status)):\n",
    "    if status[i] == 1:\n",
    "        LK_single.append(ratings_LK[i])\n",
    "        count+=1\n",
    "    elif status[i] == 0:\n",
    "        LK_multi.append(ratings_LK[i])\n",
    "        count+=1\n",
    "    #neglect the few who did not respond as there is not a guaranteed \"50/50\" chance someone has siblings \n",
    "if count!=len(LK_single)+len(LK_multi):error('POSSIBLE DATA MISMATCH')\n",
    "\n",
    "Movies.plot(LK_single, LK_multi, \"Q4\", n_bins = 8, titleX = \"Lion King (1994) with Single Children\",titleY = \"Lion King (1994) with Sibilings\", \\\n",
    "    x1=\"Counts\",y1=\"Counts\",x2=\"Rating\",y2=\"Rating\")\n",
    "\n",
    "pval5 = Movies.utest2(LK_single, LK_multi, hyp = 'greater', text = \"single children without siblings enjoy Lion King (1994) more.\")  "
   ]
  },
  {
   "cell_type": "markdown",
   "metadata": {},
   "source": [
    "# 6. What proportion of movies exhibit an “only child effect”, i.e. are rated different by viewers with siblings  vs. those without?"
   ]
  },
  {
   "cell_type": "code",
   "execution_count": 72,
   "metadata": {},
   "outputs": [
    {
     "name": "stdout",
     "output_type": "stream",
     "text": [
      "About 1.75% of movies (7) are rated differently by viewers with siblings vs. those without.\n",
      "\n"
     ]
    }
   ],
   "source": [
    "pval6, pvals6 = Movies.utest2_prop(xcol_title = 'Are you an only child? (1: Yes; 0: No; -1: Did not respond)', \\\n",
    "    options = [1, 0, 999], hyp = 'two-sided', text=\"are rated differently by viewers with siblings vs. those without.\")\n",
    "    #Note: 999 signals to neglect the ones who did responded as we don't have a 50/50 chance one has siblings or not"
   ]
  },
  {
   "cell_type": "markdown",
   "metadata": {},
   "source": [
    "# 7. Do people who like to watch movies socially enjoy ‘The Wolf of Wall Street (2013)’ more than those who prefer to watch them alone? "
   ]
  },
  {
   "cell_type": "code",
   "execution_count": 73,
   "metadata": {},
   "outputs": [
    {
     "name": "stdout",
     "output_type": "stream",
     "text": [
      "As p-value of 0.94367 is > alpha of 0.005 at test statistic 49303.50, we fail to reject the null hypothesis.\n",
      "There is insufficient evidence to suggest that people enjoy watching the The Wolf of Wall Street (2013) with others more.\n",
      "\n"
     ]
    },
    {
     "data": {
      "image/png": "[encoded data removed]",
      "text/plain": [
       "<Figure size 432x288 with 2 Axes>"
      ]
     },
     "metadata": {
      "needs_background": "light"
     },
     "output_type": "display_data"
    }
   ],
   "source": [
    "\n",
    "WW_alone = [] \n",
    "WW_ppl = []\n",
    "#row-wise elimination of entries needed as gender may have NAN for entries movie does not and vice-versa\n",
    "status, ratings_WW = Movies.rowElim('Movies are best enjoyed alone (1: Yes; 0: No; -1: Did not respond)','The Wolf of Wall Street (2013)')\n",
    "\n",
    "count = 0\n",
    "for i in range(len(status)):\n",
    "    if status[i] == 1:\n",
    "        WW_alone.append(ratings_WW[i])\n",
    "        count+=1\n",
    "    elif status[i] == 0:\n",
    "        WW_ppl.append(ratings_WW[i])\n",
    "        count+=1\n",
    "if count!=len(WW_alone)+len(WW_ppl):error('POSSIBLE DATA MISMATCH')\n",
    "pval7= Movies.utest2(WW_ppl, WW_alone, hyp = 'greater', text = \"people enjoy watching the The Wolf of Wall Street (2013) with others more.\")  \n",
    "\n",
    "Movies.plot(WW_alone, WW_ppl, \"Q7\", n_bins = 8, titleX = \"W.W.S. (2013) - Viewed Alone\",titleY = \"W.W.S. (2013) - Viewed Together\", \\\n",
    "    x1=\"Counts\",y1=\"Counts\",x2=\"Rating\",y2=\"Rating\")"
   ]
  },
  {
   "cell_type": "markdown",
   "metadata": {},
   "source": [
    "# 8. What proportion of movies exhibit such a “social watching” effect? "
   ]
  },
  {
   "cell_type": "code",
   "execution_count": 74,
   "metadata": {},
   "outputs": [
    {
     "name": "stdout",
     "output_type": "stream",
     "text": [
      "About 2.50% of movies (10) show a social watching effect.\n",
      "\n"
     ]
    }
   ],
   "source": [
    "prop8, pvals8 = Movies.utest2_prop(xcol_title = 'Movies are best enjoyed alone (1: Yes; 0: No; -1: Did not respond)', \\\n",
    "    options = [1, 0, 999], hyp = 'two-sided', text=\"show a social watching effect.\")"
   ]
  },
  {
   "cell_type": "markdown",
   "metadata": {},
   "source": [
    "# 9. Is the ratings distribution of ‘Home Alone (1990)’ different than that of ‘Finding Nemo (2003)’?  "
   ]
  },
  {
   "cell_type": "code",
   "execution_count": 75,
   "metadata": {},
   "outputs": [
    {
     "data": {
      "image/png": "[encoded data removed]",
      "text/plain": [
       "<Figure size 432x288 with 2 Axes>"
      ]
     },
     "metadata": {
      "needs_background": "light"
     },
     "output_type": "display_data"
    },
    {
     "name": "stdout",
     "output_type": "stream",
     "text": [
      "As p-value of 0.00000 is < alpha of 0.005 at test statistic 0.17, we reject the null hypothesis.\n",
      "There is sufficient evidence to suggest that that the two distributions are different.\n",
      "\n"
     ]
    }
   ],
   "source": [
    "ratings_FN = [] \n",
    "ratings_HA = []\n",
    "\n",
    "#row-wise elimination of entries needed as gender may have NAN for entries movie does not and vice-versa\n",
    "ratings_FN, ratings_HA = Movies.rowElim('Finding Nemo (2003)','Home Alone (1990)')\n",
    "\n",
    "Movies.plot(WW_alone, WW_ppl, \"Q9\", n_bins = 7, titleX = \"Finding Nemo (2003)\",titleY = \"Home Alone (1990)\", \\\n",
    "    x1=\"Counts\",y1=\"Counts\",x2=\"Rating\",y2=\"Rating\")\n",
    "\n",
    "pval9 = Movies.kstest2(ratings_HA,ratings_FN,text=\"that the two distributions are different.\")"
   ]
  },
  {
   "cell_type": "markdown",
   "metadata": {},
   "source": [
    "# 10. There are ratings on movies from several franchises ([‘Star Wars’, ‘Harry Potter’, ‘The Matrix’, ‘Indiana  Jones’, ‘Jurassic Park’,  ‘Pirates of the Caribbean’, ‘Toy Story’, ‘Batman’]) in this dataset.  How many of these are of inconsistent quality, as experienced by viewers? "
   ]
  },
  {
   "cell_type": "code",
   "execution_count": 77,
   "metadata": {},
   "outputs": [],
   "source": [
    "\n",
    "franchisesList = ['Star Wars', 'Harry Potter', 'The Matrix', 'Indiana Jones', 'Jurassic Park', 'Pirates of the Caribbean', 'Toy Story', 'Batman']\n",
    "discrepant10 = Movies.franchiseDiff(franchisesList, hyp = 'two-sided', text = \"quality across its movie ratings.\", alpha_ratio= 1)"
   ]
  },
  {
   "cell_type": "markdown",
   "metadata": {},
   "source": [
    "# Bonus: Do men enjoy horror thrillers more than women?"
   ]
  },
  {
   "cell_type": "code",
   "execution_count": 78,
   "metadata": {},
   "outputs": [
    {
     "name": "stdout",
     "output_type": "stream",
     "text": [
      "\n",
      "Only 3 of these horror thrillers (about 9.1%) were enjoyed more by males than females!\n",
      "Even if we double the alpha, only 4 of these horror thrillers (about 12.1%) seem to be enjoyed more by males than females.\n",
      "\n"
     ]
    }
   ],
   "source": [
    "\n",
    "horrors = ['Alien (1979)','Alien (1979)','Black Swan (2010)','A Nightmare on Elm Street (1984)','Psycho (1960)','Night of the Living Dead (1968)', \\\n",
    "'The Silence of the Lambs (1991)', 'The Others (2001)', 'The Texas Chainsaw Massacre (1974)', 'The Omen (1976)', 'Poltergeist (1982)', 'Poltergeist (1982)', \\\n",
    "'The Conjuring (2013)', 'The Thing (1982)', 'The Shining (1980)', 'Shutter Island (2010)', 'Carrie (1976)', \"Rosemary's Baby (1968)\", 'The Evil Dead (1981)', \\\n",
    "'The Blair Witch Project (1999)', 'Cloverfield (2008)', \"Bram Stoker's Dracula (1992)\", 'What Lies Beneath (2000)', 'Friday the 13th Part III (1982)', 'Hannibal (2001)', \\\n",
    "'American Psycho (2000)', 'Predator (1987)', 'Aliens (1986)', \"You're Next (2011)\", 'Saw (2004)', 'Halloween (1978)', 'The Mist (2007)', 'The Descent (2005)']\n",
    "table = Movies.table(dropNan = False, moviesOnly = True)\n",
    "male_more = 0\n",
    "male_more_alpha2 = 0\n",
    "for horror in horrors:\n",
    "    genders, ratings = Movies.rowElim('Gender identity (1 = female; 2 = male; 3 = self-described)', horror)\n",
    "    males = [] \n",
    "    females = []\n",
    "    \n",
    "    count = 0\n",
    "    for i in range(len(genders)):\n",
    "    \n",
    "        if genders[i] == 1:\n",
    "            females.append(ratings[i])\n",
    "            count+=1\n",
    "        elif genders[i] == 2:\n",
    "            males.append(ratings[i])\n",
    "            count+=1\n",
    "        #due to scarcity of additional info on self-described individuals, gender randomly assigned for them\n",
    "        elif genders[i] == 3:\n",
    "            count+=1\n",
    "            choice = random.randint(0,1)\n",
    "            if choice:\n",
    "                males.append(ratings[i])\n",
    "            else:\n",
    "                females.append(ratings[i])\n",
    "        else: error('GENDER MISMATCH')\n",
    "    if count!=len(females)+len(males):error('POSSIBLE DATA MISMATCH')\n",
    "  \n",
    "    Movies.verbose = False\n",
    "    pval = Movies.utest2(males,females,hyp='greater')\n",
    "    \n",
    "    if pval[1] < Movies.alpha:\n",
    "        male_more+=1  \n",
    "        \n",
    "    if pval[1] < Movies.alpha*2:\n",
    "        male_more_alpha2+=1  \n",
    "\n",
    "print('\\nOnly {count} of these horror thrillers (about {ratio}%) were enjoyed more by males than females!'.format(count=male_more, ratio = format(100*male_more/len(horrors),\".1f\")))\n",
    "print('Even if we double the alpha, only {count} of these horror thrillers (about {ratio}%) seem to be enjoyed more by males than females.\\n'.format(count=male_more_alpha2, ratio = format(100*male_more_alpha2/len(horrors),\".1f\")))\n"
   ]
  }
 ],
 "metadata": {
  "interpreter": {
   "hash": "916dbcbb3f70747c44a77c7bcd40155683ae19c65e1c03b4aa3499c5328201f1"
  },
  "kernelspec": {
   "display_name": "Python 3.8.10 64-bit",
   "name": "python3"
  },
  "language_info": {
   "codemirror_mode": {
    "name": "ipython",
    "version": 3
   },
   "file_extension": ".py",
   "mimetype": "text/x-python",
   "name": "python",
   "nbconvert_exporter": "python",
   "pygments_lexer": "ipython3",
   "version": "3.8.10"
  },
  "orig_nbformat": 4
 },
 "nbformat": 4,
 "nbformat_minor": 2
}
