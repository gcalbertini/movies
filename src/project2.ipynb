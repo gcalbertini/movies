{
 "cells": [
  {
   "cell_type": "markdown",
   "metadata": {},
   "source": [
    "# This project will be a continuation of Project 1 (see attached report and notebook). This time, for all missing values, we will fill with the averages for the columns rather than by performing row-wise elemination. We set the per-test significance level 𝛼 to 0.005 (as per Benjamin et al., 2018). "
   ]
  },
  {
   "cell_type": "code",
   "execution_count": null,
   "metadata": {},
   "outputs": [],
   "source": [
    "#!/usr/bin/env python\n",
    "\n",
    "import importlib\n",
    "from myModules import movieClass\n",
    "importlib.reload(movieClass)\n",
    "import pandas as pd\n",
    "import numpy as np\n",
    "from sklearn import linear_model\n",
    "from sklearn.metrics import mean_absolute_error\n",
    "from sklearn.model_selection import train_test_split\n",
    "import matplotlib.pyplot as  plt\n",
    "\n",
    "Movies = movieClass.movie(verbose=False, alpha=0.005)"
   ]
  },
  {
   "cell_type": "markdown",
   "metadata": {},
   "source": []
  }
 ],
 "metadata": {
  "language_info": {
   "name": "python"
  },
  "orig_nbformat": 4
 },
 "nbformat": 4,
 "nbformat_minor": 2
}
